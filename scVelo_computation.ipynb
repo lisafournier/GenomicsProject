{
 "cells": [
  {
   "cell_type": "code",
   "execution_count": 1,
   "metadata": {},
   "outputs": [
    {
     "name": "stdout",
     "output_type": "stream",
     "text": [
      "Running scvelo 0.2.3 (python 3.8.5) on 2021-06-01 12:03.\n"
     ]
    }
   ],
   "source": [
    "import scvelo as scv\n",
    "scv.logging.print_version()"
   ]
  },
  {
   "cell_type": "code",
   "execution_count": 2,
   "metadata": {},
   "outputs": [],
   "source": [
    "scv.settings.verbosity = 3  # show errors(0), warnings(1), info(2), hints(3)\n",
    "scv.settings.presenter_view = True  # set max width size for presenter view\n",
    "scv.set_figure_params('scvelo')  # for beautified visualization"
   ]
  },
  {
   "cell_type": "code",
   "execution_count": 3,
   "metadata": {},
   "outputs": [
    {
     "name": "stderr",
     "output_type": "stream",
     "text": [
      "Variable names are not unique. To make them unique, call `.var_names_make_unique`.\n"
     ]
    }
   ],
   "source": [
    "data = scv.read(\"./rgl_neuroblast_glioblast.loom\", cache=True)"
   ]
  },
  {
   "cell_type": "code",
   "execution_count": 4,
   "metadata": {},
   "outputs": [],
   "source": [
    "data.var_names_make_unique()\n",
    "data = data[(data.obs.Clusters < 321)]\n"
   ]
  },
  {
   "cell_type": "code",
   "execution_count": 5,
   "metadata": {},
   "outputs": [],
   "source": [
    "#Radial glia cells : keep only the ones of e9 and only 2500 of them\n",
    "radial = data[data.obs.Class == \"Radial glia\"]\n",
    "radial9 = radial[radial.obs['Age'] == 'e9.0']\n",
    "radial9 = radial9[1:500]\n",
    "radial10 = radial[radial.obs['Age'] == 'e10.0']\n",
    "radial10 = radial10[1:500]\n",
    "radial11 = radial[radial.obs['Age'] == 'e11.0']\n",
    "radial11 = radial11[1:500]\n",
    "radial12 = radial[radial.obs['Age'] == 'e12.0']\n",
    "radial12 = radial12[1:500]\n",
    "radial13 = radial[radial.obs['Age'] == 'e13.0']\n",
    "radial13 = radial13[1:500]\n",
    "radial135 = radial[radial.obs['Age'] == 'e13.5']\n",
    "radial135 = radial135[1:500]\n",
    "\n",
    "radial = radial9.concatenate(radial10, radial11, radial12, radial13, radial135, join = 'outer')\n",
    "\n",
    "\n",
    "#Early neural tube cells : take them all\n",
    "early_neural_tube = data[data.obs.Class == \"Early Neural Tube\"]\n",
    "\n",
    "#OPCs : take them all\n",
    "opc_s = data[data.obs.Class == \"OPCs\"]\n",
    "\n",
    "#Glia cells : take approx 2500 of them\n",
    "glia = data[data.obs.Class == \"Glia\"]\n",
    "glia_14 = glia[glia.obs['Age']  == 'e14.0']\n",
    "glia_135 = glia[glia.obs['Age']  == 'e13.5']\n",
    "glia_15 = glia[glia.obs['Age']  == 'e15']\n",
    "glia_155 = glia[glia.obs['Age']  == 'e15.5']\n",
    "glia_16 = glia[glia.obs['Age']  == 'e16.0']\n",
    "glia_16 = glia_16[1:500]\n",
    "glia_165 = glia[glia.obs['Age']  == 'e16.5']\n",
    "glia_165 = glia_165[1:500]\n",
    "glia_17 = glia[glia.obs['Age']  == 'e17.0']\n",
    "glia_17 = glia_17[1:500]\n",
    "glia_18 = glia[glia.obs['Age']  == 'e18.0']\n",
    "glia_18 = glia_18[1:500]\n",
    "glia = glia_14.concatenate(glia_135, glia_15, glia_155, glia_16, glia_165, glia_17, glia_18, join='outer')"
   ]
  },
  {
   "cell_type": "code",
   "execution_count": 6,
   "metadata": {},
   "outputs": [],
   "source": [
    "adata = radial.concatenate(early_neural_tube, opc_s, glia, join='outer')"
   ]
  },
  {
   "cell_type": "code",
   "execution_count": 7,
   "metadata": {},
   "outputs": [
    {
     "data": {
      "image/png": "[encoded data removed]",
      "text/plain": [
       "<Figure size 1000x200 with 1 Axes>"
      ]
     },
     "metadata": {
      "image/png": {
       "height": 196,
       "width": 172
      }
     },
     "output_type": "display_data"
    }
   ],
   "source": [
    "scv.pl.proportions(adata)"
   ]
  },
  {
   "cell_type": "markdown",
   "metadata": {},
   "source": [
    "Preprocess the Data"
   ]
  },
  {
   "cell_type": "code",
   "execution_count": 8,
   "metadata": {},
   "outputs": [
    {
     "name": "stdout",
     "output_type": "stream",
     "text": [
      "Filtered out 2918 genes that are detected 20 counts (shared).\n",
      "Normalized count data: X, spliced, unspliced.\n",
      "Extracted 2000 highly variable genes.\n",
      "Logarithmized X.\n",
      "computing neighbors\n",
      "    finished (0:00:26) --> added \n",
      "    'distances' and 'connectivities', weighted adjacency matrices (adata.obsp)\n",
      "computing moments based on connectivities\n",
      "    finished (0:00:02) --> added \n",
      "    'Ms' and 'Mu', moments of un/spliced abundances (adata.layers)\n"
     ]
    }
   ],
   "source": [
    "scv.pp.filter_and_normalize(adata, min_shared_counts=20, n_top_genes=2000)\n",
    "scv.pp.moments(adata, n_pcs=30, n_neighbors=30)"
   ]
  },
  {
   "cell_type": "markdown",
   "metadata": {},
   "source": [
    "Dynamical model"
   ]
  },
  {
   "cell_type": "code",
   "execution_count": 9,
   "metadata": {},
   "outputs": [
    {
     "name": "stdout",
     "output_type": "stream",
     "text": [
      "recovering dynamics (using 1/4 cores)\n"
     ]
    },
    {
     "data": {
      "application/vnd.jupyter.widget-view+json": {
       "model_id": "67d5e12979d64af1b454039514a866ce",
       "version_major": 2,
       "version_minor": 0
      },
      "text/plain": [
       "HBox(children=(HTML(value=''), FloatProgress(value=0.0, max=1113.0), HTML(value='')))"
      ]
     },
     "metadata": {},
     "output_type": "display_data"
    },
    {
     "name": "stdout",
     "output_type": "stream",
     "text": [
      "\n",
      "    finished (0:16:19) --> added \n",
      "    'fit_pars', fitted parameters for splicing dynamics (adata.var)\n"
     ]
    }
   ],
   "source": [
    "scv.tl.recover_dynamics(adata)"
   ]
  },
  {
   "cell_type": "code",
   "execution_count": 10,
   "metadata": {},
   "outputs": [
    {
     "name": "stdout",
     "output_type": "stream",
     "text": [
      "computing velocities\n",
      "    finished (0:00:13) --> added \n",
      "    'velocity', velocity vectors for each individual cell (adata.layers)\n",
      "computing velocity graph\n",
      "    finished (0:00:09) --> added \n",
      "    'velocity_graph', sparse matrix with cosine correlations (adata.uns)\n"
     ]
    }
   ],
   "source": [
    "scv.tl.velocity(adata, mode='dynamical')\n",
    "scv.tl.velocity_graph(adata)"
   ]
  },
  {
   "cell_type": "code",
   "execution_count": 11,
   "metadata": {},
   "outputs": [],
   "source": [
    "adata.write('../scvelo_final1.h5ad', compression='gzip')"
   ]
  }
 ],
 "metadata": {
  "kernelspec": {
   "display_name": "Python 3",
   "language": "python",
   "name": "python3"
  },
  "language_info": {
   "codemirror_mode": {
    "name": "ipython",
    "version": 3
   },
   "file_extension": ".py",
   "mimetype": "text/x-python",
   "name": "python",
   "nbconvert_exporter": "python",
   "pygments_lexer": "ipython3",
   "version": "3.8.5"
  }
 },
 "nbformat": 4,
 "nbformat_minor": 4
}
